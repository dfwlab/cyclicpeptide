{
 "cells": [
  {
   "cell_type": "code",
   "execution_count": 1,
   "id": "4c98769c-e7b4-4120-b311-2d64fe1734cc",
   "metadata": {},
   "outputs": [],
   "source": [
    "import torch\n",
    "import torch.nn.functional as F\n",
    "from torch_geometric.nn import GCNConv, global_mean_pool\n",
    "from torch_geometric.data import Data, Batch\n",
    "\n",
    "class GCNEmbedding(torch.nn.Module):\n",
    "    def __init__(self, input_dim, hidden_dim, output_dim):\n",
    "        super(GCNEmbedding, self).__init__()\n",
    "        self.conv1 = GCNConv(input_dim, hidden_dim)\n",
    "        self.conv2 = GCNConv(hidden_dim, output_dim)\n",
    "    def forward(self, x, edge_index, batch):\n",
    "        x = F.relu(self.conv1(x, edge_index))\n",
    "        x = self.conv2(x, edge_index)\n",
    "        x = global_mean_pool(x, batch)\n",
    "        return x\n",
    "class GraphSimilarityModel(torch.nn.Module):\n",
    "    def __init__(self, node_feature_dim=10, hidden_dim=64, embedding_dim=32):\n",
    "        super(GraphSimilarityModel, self).__init__()\n",
    "        self.gcn = GCNEmbedding(node_feature_dim, hidden_dim, embedding_dim)\n",
    "        self.fc = torch.nn.Sequential(\n",
    "            torch.nn.Linear(3 * embedding_dim, hidden_dim),\n",
    "            torch.nn.ReLU(),\n",
    "            torch.nn.Linear(hidden_dim, 1),\n",
    "            torch.nn.Sigmoid()\n",
    "        )\n",
    "    \n",
    "    def forward(self, data1, data2):\n",
    "        embedding1 = self.gcn(data1.x, data1.edge_index, data1.batch)\n",
    "        embedding2 = self.gcn(data2.x, data2.edge_index, data2.batch)\n",
    "        combined = torch.cat([embedding1, embedding2, torch.abs(embedding1 - embedding2)], dim=1)\n",
    "        similarity = self.fc(combined)\n",
    "        return similarity.squeeze()"
   ]
  },
  {
   "cell_type": "code",
   "execution_count": 2,
   "id": "8dcc5e65-2956-4a3f-adef-10fe52079bf0",
   "metadata": {},
   "outputs": [],
   "source": [
    "import re\n",
    "def sequence_to_node_edge(sequence):\n",
    "    \"\"\"\n",
    "    Example::\n",
    "\n",
    "        ref_seq = 'Cys(1)(2)--Cys--OH-DL-Val(2)--4OH-Leu--OH-Ile(1)'\n",
    "\n",
    "        ref_nodes, ref_edges = ga.sequence_to_node_edge(ref_seq)\n",
    "\n",
    "    :param sequence: amino acid chain format.\n",
    "    :type sequence: Format conversion by :py:func:`SequenceTransformer.read_sequence`\n",
    "    :return: Sequence nodes and edges information\n",
    "    :rtype: Display with :py:func:`create_graph`\n",
    "\n",
    "    \"\"\"\n",
    "    amino_acids = sequence.split('--')\n",
    "    nodes = []  # 节点信息: [(0, 'Cys'), (1, 'Cys'), ...]\n",
    "    edges = []  # 边信息: [(0, 1), (1, 2), ...]\n",
    "    # 用于存储特殊连接信息\n",
    "    special_connections = {}\n",
    "    for i, amino_acid in enumerate(amino_acids):\n",
    "        # 提取氨基酸名称和特殊连接信息\n",
    "        amino_acid_name = re.sub(r\"\\(\\d+\\)\", \"\", amino_acid)\n",
    "        # print(amino_acid_name)\n",
    "        if '-' in amino_acid_name:\n",
    "            items = [k.strip() for k in amino_acid_name.split('-')]\n",
    "            for j in range(len(items) - 1):\n",
    "                nodes.append((str(i) + '_' + str(j), items[j].strip().upper()))\n",
    "                edges.append((str(i) + '_' + str(j), i))\n",
    "            amino_acid_name = items[-1]\n",
    "        nodes.append((i, amino_acid_name.strip().capitalize()))\n",
    "        # 记录普通连接\n",
    "        if i > 0:\n",
    "            edges.append((i - 1, i))\n",
    "        # 处理特殊连接\n",
    "        special_conn_ids = re.findall(r\"\\((\\d+)\\)\", amino_acid)\n",
    "        # print(special_conn_ids)\n",
    "        for conn_id in special_conn_ids:\n",
    "            conn_id = int(conn_id) - 1  # 转换为从0开始的索引\n",
    "            # 存储特殊连接信息\n",
    "            if conn_id in special_connections:\n",
    "                edges.append((special_connections[conn_id], i))\n",
    "            else:\n",
    "                special_connections[conn_id] = i\n",
    "    return nodes, edges\n",
    "\n",
    "def node2embedding(node):\n",
    "    node_labels = [\"Ala\", \"Arg\", \"Asn\", \"Asp\", \"Cys\", \"Gln\", \"Glu\", \"Gly\", \"His\", \"Ile\", \"Leu\", \"Lys\", \n",
    "                   \"Met\", \"Phe\", \"Pro\", \"Ser\", \"Thr\", \"Trp\", \"Tyr\", \"Val\", \"Orn\", \"Aile\", \"DL\", \"D\", \"Dap\", \"Athr\",\n",
    "                   \"4OH\", \"OH\"]\n",
    "    if node in node_labels:\n",
    "        return [1 if i==node else 0 for i in node_labels] + [0]\n",
    "    else:\n",
    "        return [0 for i in node_labels] + [1]\n",
    "\n",
    "def graph2data(nodes, edges):\n",
    "    # 定义节点特征矩阵和索引\n",
    "    node_index_map = {node[0]: i for i, node in enumerate(nodes)}  # 用于将节点标识映射到索引\n",
    "    x = torch.tensor([node2embedding(node[1]) for node in nodes], dtype=torch.float)\n",
    "    \n",
    "    # 将边转换为索引形式\n",
    "    edge_index = torch.tensor([[node_index_map[edge[0]], node_index_map[edge[1]]] for edge in edges], dtype=torch.long).t().contiguous()\n",
    "    \n",
    "    # 创建 PyTorch Geometric 图数据\n",
    "    data = Data(x=x, edge_index=edge_index)\n",
    "    return data\n",
    "\n",
    "def load_ga_gcn(model_path='GA_GCN.pth'):\n",
    "    model = GraphSimilarityModel(node_feature_dim=29)\n",
    "    model.load_state_dict(torch.load(model_path, weights_only=False))\n",
    "    model.eval()\n",
    "    return model\n",
    "\n",
    "def ga_prediction(model, seq1, seq2):\n",
    "    nodes1, edges1 = sequence_to_node_edge(seq1)\n",
    "    nodes2, edges2 = sequence_to_node_edge(seq2)\n",
    "    data1, data2 = graph2data(nodes1, edges1), graph2data(nodes2, edges2)\n",
    "    return model(data1, data2).detach().numpy()"
   ]
  },
  {
   "cell_type": "markdown",
   "id": "272a4216-5a28-452a-a127-369482ec01cd",
   "metadata": {},
   "source": [
    "# Test"
   ]
  },
  {
   "cell_type": "code",
   "execution_count": 3,
   "id": "b5e694cd-7d80-41e9-a1ce-7b02749e3586",
   "metadata": {},
   "outputs": [],
   "source": [
    "model = load_ga_gcn(model_path='GA_GCN.pth')"
   ]
  },
  {
   "cell_type": "code",
   "execution_count": 4,
   "id": "48ad9d15-01fe-401d-8655-cafaf0ef8d7a",
   "metadata": {},
   "outputs": [
    {
     "data": {
      "text/plain": [
       "array(0.9999999, dtype=float32)"
      ]
     },
     "execution_count": 4,
     "metadata": {},
     "output_type": "execute_result"
    }
   ],
   "source": [
    "seq1 = 'Ala(1)--Ala--Gly--Phe--Pro--Val--Phe--Phe(1)'\n",
    "seq2 = 'Ala(1)--Ala--Gly--Phe--Pro--Val--Phe--Phe(1)'\n",
    "ga_prediction(model, seq1, seq2)"
   ]
  },
  {
   "cell_type": "code",
   "execution_count": 5,
   "id": "0f2a5ade-1ffb-4af2-8796-fdc9791edc04",
   "metadata": {},
   "outputs": [
    {
     "data": {
      "text/plain": [
       "array(0.9999136, dtype=float32)"
      ]
     },
     "execution_count": 5,
     "metadata": {},
     "output_type": "execute_result"
    }
   ],
   "source": [
    "seq1 = 'Ala(1)--Ala--Gly--Phe--Pro--Val--Phe--Phe(1)'\n",
    "seq2 = 'Pro(1)--Val--Phe--Phe--Ala--Ala--Gly--Phe(1)'\n",
    "ga_prediction(model, seq1, seq2)"
   ]
  },
  {
   "cell_type": "markdown",
   "id": "bf9fe256-a814-4615-89c0-90e6be3d834c",
   "metadata": {},
   "source": [
    "# Case"
   ]
  },
  {
   "cell_type": "code",
   "execution_count": 6,
   "id": "504d2242-4db1-47c4-9f1d-ca0287126e31",
   "metadata": {},
   "outputs": [],
   "source": [
    "import pandas as pd\n",
    "df = pd.read_excel('../one-letter.xlsx')\n",
    "ref_seqs = df['Seq-plus'].to_list()"
   ]
  },
  {
   "cell_type": "code",
   "execution_count": 7,
   "id": "6414d312-ac6c-40b6-a38d-34f4adfb27d9",
   "metadata": {},
   "outputs": [],
   "source": [
    "model = load_ga_gcn(model_path='GA_GCN.pth')"
   ]
  },
  {
   "cell_type": "code",
   "execution_count": 8,
   "id": "29468df3-f437-4765-9057-f648fdb382e8",
   "metadata": {},
   "outputs": [
    {
     "name": "stdout",
     "output_type": "stream",
     "text": [
      "CPU times: user 8.24 s, sys: 22.3 ms, total: 8.26 s\n",
      "Wall time: 401 ms\n"
     ]
    }
   ],
   "source": [
    "%%time\n",
    "query = \"Ala(1)--Ala--Gly--Phe--Pro--Val--Phe--Phe(1)\"\n",
    "similarities = []\n",
    "for ref in ref_seqs:\n",
    "    similarities.append(ga_prediction(model, query, ref))\n",
    "df['sim'] = similarities\n",
    "df.to_excel('GA_GCN_sim.xlsx')"
   ]
  },
  {
   "cell_type": "code",
   "execution_count": null,
   "id": "d9c82a2b-7eed-4ce0-b839-eeff8f9ec94e",
   "metadata": {},
   "outputs": [],
   "source": []
  }
 ],
 "metadata": {
  "kernelspec": {
   "display_name": "Python 3 (ipykernel)",
   "language": "python",
   "name": "python3"
  },
  "language_info": {
   "codemirror_mode": {
    "name": "ipython",
    "version": 3
   },
   "file_extension": ".py",
   "mimetype": "text/x-python",
   "name": "python",
   "nbconvert_exporter": "python",
   "pygments_lexer": "ipython3",
   "version": "3.8.10"
  }
 },
 "nbformat": 4,
 "nbformat_minor": 5
}
